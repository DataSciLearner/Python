{
  "nbformat": 4,
  "nbformat_minor": 0,
  "metadata": {
    "colab": {
      "name": "Show numbers are immutable.ipynb",
      "provenance": [],
      "authorship_tag": "ABX9TyPq4iCRdLYleEnsvfbZD5Ye",
      "include_colab_link": true
    },
    "kernelspec": {
      "name": "python3",
      "display_name": "Python 3"
    },
    "language_info": {
      "name": "python"
    }
  },
  "cells": [
    {
      "cell_type": "markdown",
      "metadata": {
        "id": "view-in-github",
        "colab_type": "text"
      },
      "source": [
        "<a href=\"https://colab.research.google.com/github/DataSciLearner/Python/blob/master/Show_numbers_are_immutable.ipynb\" target=\"_parent\"><img src=\"https://colab.research.google.com/assets/colab-badge.svg\" alt=\"Open In Colab\"/></a>"
      ]
    },
    {
      "cell_type": "code",
      "execution_count": 2,
      "metadata": {
        "colab": {
          "base_uri": "https://localhost:8080/"
        },
        "id": "NHFA_mLKaSYc",
        "outputId": "6108c149-e261-44fb-b01c-b97fc17581f8"
      },
      "outputs": [
        {
          "output_type": "stream",
          "name": "stdout",
          "text": [
            "94264375828256\n",
            "94264375828416\n"
          ]
        }
      ],
      "source": [
        "number =42\n",
        "print(id(number))\n",
        "number += 5\n",
        "print(id(number))"
      ]
    }
  ]
}