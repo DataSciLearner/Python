{
  "nbformat": 4,
  "nbformat_minor": 0,
  "metadata": {
    "colab": {
      "name": "show strings are immutable.ipynb",
      "provenance": [],
      "authorship_tag": "ABX9TyPd+44agkHNkRtdQKTLi/VB",
      "include_colab_link": true
    },
    "kernelspec": {
      "name": "python3",
      "display_name": "Python 3"
    },
    "language_info": {
      "name": "python"
    }
  },
  "cells": [
    {
      "cell_type": "markdown",
      "metadata": {
        "id": "view-in-github",
        "colab_type": "text"
      },
      "source": [
        "<a href=\"https://colab.research.google.com/github/DataSciLearner/Python/blob/master/show_strings_are_immutable.ipynb\" target=\"_parent\"><img src=\"https://colab.research.google.com/assets/colab-badge.svg\" alt=\"Open In Colab\"/></a>"
      ]
    },
    {
      "cell_type": "code",
      "execution_count": 1,
      "metadata": {
        "colab": {
          "base_uri": "https://localhost:8080/"
        },
        "id": "UIKTIlHbYefA",
        "outputId": "ae0e8ac9-ad3f-41a4-e38a-8e3e61954534"
      },
      "outputs": [
        {
          "output_type": "stream",
          "name": "stdout",
          "text": [
            "140611581167088\n",
            "140611593644080\n"
          ]
        }
      ],
      "source": [
        "test = \"apple\"\n",
        "print(id(test))\n",
        "test = \"orange\"\n",
        "print(id(test))"
      ]
    }
  ]
}